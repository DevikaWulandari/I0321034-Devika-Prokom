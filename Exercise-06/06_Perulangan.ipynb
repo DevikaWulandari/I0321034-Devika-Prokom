{
 "cells": [
  {
   "cell_type": "markdown",
   "metadata": {},
   "source": [
    "***\n",
    "<h1 align=\"center\">Exercise 06</h1>\n",
    " \n",
    "***\n",
    "## While Loop\n",
    "## Exercise 6.1\n",
    "isilah bagian rumpang berikut. xx diganti tanggal lahir dan yy diganti menjadi bulan lahir. tandanya menyesuaikan yang lebih besar."
   ]
  },
  {
   "cell_type": "code",
   "execution_count": 6,
   "metadata": {},
   "outputs": [
    {
     "name": "stdout",
     "output_type": "stream",
     "text": [
      "Kalau Bukan Kita Siapa Lagi\n",
      "Kalau Bukan Kita Siapa Lagi\n",
      "Kalau Bukan Kita Siapa Lagi\n",
      "Kalau Bukan Kita Siapa Lagi\n",
      "Kalau Bukan Kita Siapa Lagi\n",
      "Kalau Bukan Kita Siapa Lagi\n"
     ]
    }
   ],
   "source": [
    "#menentukan banyak pengulangan\n",
    "n = 10\n",
    "\n",
    "#melakukan pengulangan\n",
    "i = 5\n",
    "\n",
    "while i <= n :\n",
    "    print (\"Kalau Bukan Kita Siapa Lagi\")\n",
    "    #diisi motto kalian\n",
    "    i = i + 1 # sesuaikan dengan atas agar fungsi perulangan dapat berhenti\n",
    "\n"
   ]
  },
  {
   "cell_type": "markdown",
   "metadata": {},
   "source": [
    "## Exercise 6.2\n",
    "\n",
    "Buatlah code seperti yang dicontohkan pada modul agar user dapat menginputkan sendiri jumlah n yang diinginkan"
   ]
  },
  {
   "cell_type": "code",
   "execution_count": 9,
   "metadata": {},
   "outputs": [
    {
     "name": "stdout",
     "output_type": "stream",
     "text": [
      "5\n",
      "6\n",
      "7\n"
     ]
    }
   ],
   "source": [
    "#Kerjakan disini\n",
    "n = int(input(\"input nilai n: \"))\n",
    "i = 5\n",
    "while i <= n : \n",
    "    print (i)\n",
    "    i = i + 1"
   ]
  },
  {
   "cell_type": "markdown",
   "metadata": {},
   "source": [
    "## Excercise 6.3\n",
    "\n",
    "isilah xx, yy, dan tanda rumpang seperti pada exercise 6.1\n"
   ]
  },
  {
   "cell_type": "code",
   "execution_count": 14,
   "metadata": {},
   "outputs": [
    {
     "name": "stdout",
     "output_type": "stream",
     "text": [
      "Baris ke-10 : Me Before You\n",
      "Baris ke-11 : Me Before You\n",
      "Baris ke-12 : Me Before You\n",
      "Baris ke-13 : Me Before You\n",
      "Baris ke-14 : Me Before You\n",
      "Baris ke-15 : Me Before You\n",
      "Baris ke-16 : Me Before You\n",
      "Saya membatasi hingga 16 saja\n"
     ]
    }
   ],
   "source": [
    "#melakukan pengulangan\n",
    "i = 10\n",
    "\n",
    "while i>= 7 :\n",
    "    print (\"Baris ke-%d : Me Before You\"%i)\n",
    "    if i == 16 :\n",
    "        print(\"Saya membatasi hingga 16 saja\")\n",
    "        break\n",
    "    #isi titik-titik dengan judul film favorit kalian\n",
    "    i = i + 1"
   ]
  },
  {
   "cell_type": "markdown",
   "metadata": {},
   "source": [
    "## FOR LOOP\n",
    "\n",
    "## Exercise 6.4\n",
    "\n",
    "munculkan 3 dari 7 elemen yang berada di dalam list1 dan list2\n"
   ]
  },
  {
   "cell_type": "code",
   "execution_count": 15,
   "metadata": {},
   "outputs": [
    {
     "name": "stdout",
     "output_type": "stream",
     "text": [
      "1 Indomie Yogyakarta\n",
      "2 Sempol Bali\n",
      "3 Ayam Bakar Lombok\n"
     ]
    }
   ],
   "source": [
    "list1 = [\"Indomie\",\"Sempol\",\"Ayam Bakar\",\"Gudeg\",\"Bakso\",\"Batagor\",\"Nasi Bakar\"] #masukkan 7 list makanan favorit kalian\n",
    "list2 = [\"Yogyakarta\",\"Bali\",\"Lombok\",\"Jakarta\",\"Surakarta\",\"Malang\",\"Bandung\"] #masukkan 7 list kota favorit kalian\n",
    "\n",
    "for i in range(0,3) :\n",
    "    print(i+1,list1[i] ,list2[i])"
   ]
  },
  {
   "cell_type": "markdown",
   "metadata": {},
   "source": [
    "## Perulangan Bersarang\n",
    "\n",
    "## Exercise 6.5"
   ]
  },
  {
   "cell_type": "code",
   "execution_count": 16,
   "metadata": {},
   "outputs": [
    {
     "name": "stdout",
     "output_type": "stream",
     "text": [
      "105 120 135 150 165 180 195 210 225 \n",
      "98 112 126 140 154 168 182 196 \n",
      "91 104 117 130 143 156 169 \n",
      "84 96 108 120 132 144 \n",
      "77 88 99 110 121 \n",
      "70 80 90 100 \n",
      "63 72 81 \n",
      "56 64 \n",
      "49 \n"
     ]
    }
   ],
   "source": [
    "i = 15\n",
    "while i >=7:\n",
    "    j = 7\n",
    "    while j<=i:\n",
    "        print(\"%d \" % (i*j), end = '')\n",
    "        j = j + 1\n",
    "    print()\n",
    "    i-=1"
   ]
  },
  {
   "cell_type": "markdown",
   "metadata": {},
   "source": [
    "## Pernyataan Loncat\n",
    "\n",
    "## Exercise 6.\n",
    "\n",
    "Buatlah fungsi berikut agar muncul angka hingga berhenti sesuai dengan nilai qq\n",
    "qq = angka favorit kalian\n",
    "pp>qq"
   ]
  },
  {
   "cell_type": "code",
   "execution_count": 3,
   "metadata": {},
   "outputs": [
    {
     "ename": "SyntaxError",
     "evalue": "invalid syntax. Perhaps you forgot a comma? (1560632692.py, line 15)",
     "output_type": "error",
     "traceback": [
      "\u001b[1;36m  Input \u001b[1;32mIn [3]\u001b[1;36m\u001b[0m\n\u001b[1;33m    print(\"{:<20} {:<6} {:<18} {:<7} {:<7} {:<20}\".format(tarif[kendaraan][0],tarif[kendaraan][1],tarif[kendaraan][1]diskon, (kenaikan+1)*50,tarif[kendaraan][1]((kenaikan+1)50),tarif[kendaraan][1]*diskon((kenaikan+1)*50)))\u001b[0m\n\u001b[1;37m                                                                                                  ^\u001b[0m\n\u001b[1;31mSyntaxError\u001b[0m\u001b[1;31m:\u001b[0m invalid syntax. Perhaps you forgot a comma?\n"
     ]
    }
   ],
   "source": [
    "tarif = [\n",
    "        ['Kendaraan Pribadi', 1000],\n",
    "        ['Bus', 1500],\n",
    "        ['Truck', 2000]\n",
    "        ]\n",
    "\n",
    "diskon = 90/100\n",
    "\n",
    "print('============================================================')\n",
    "print(\"{:<21} {:<30} {:<10}\".format('Kendaraan','Tarif / km','Tarif / 50km'))\n",
    "print(\"{:<20} {:<6} {:<18} {:<7} {:<7} {:<20}\".format(' ','Normal','Diskon', 'Jarak', 'Normal', 'Diskon'))\n",
    "\n",
    "for kendaraan in range (0,len(tarif)):\n",
    "    for kenaikan in range (0,5):\n",
    "        print(\"{:<20} {:<6} {:<18} {:<7} {:<7} {:<20}\".format(tarif[kendaraan][0],tarif[kendaraan][1],tarif[kendaraan][1]diskon, (kenaikan+1)*50,tarif[kendaraan][1]((kenaikan+1)50),tarif[kendaraan][1]*diskon((kenaikan+1)*50)))"
   ]
  },
  {
   "cell_type": "markdown",
   "metadata": {},
   "source": [
    "***\n",
    "<h1 align=\"center\">WELL DONE</h1>\n",
    " \n",
    "***"
   ]
  }
 ],
 "metadata": {
  "interpreter": {
   "hash": "cd08f94adcf3cbae37fe85286256f4c2a10455ca9094fd053e9f3d3f09647223"
  },
  "kernelspec": {
   "display_name": "Python 3.9.7 64-bit",
   "language": "python",
   "name": "python3"
  },
  "language_info": {
   "codemirror_mode": {
    "name": "ipython",
    "version": 3
   },
   "file_extension": ".py",
   "mimetype": "text/x-python",
   "name": "python",
   "nbconvert_exporter": "python",
   "pygments_lexer": "ipython3",
   "version": "3.10.2"
  },
  "orig_nbformat": 4
 },
 "nbformat": 4,
 "nbformat_minor": 2
}
